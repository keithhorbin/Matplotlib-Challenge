{
 "cells": [
  {
   "cell_type": "markdown",
   "metadata": {},
   "source": [
    "## Observations and Insights"
   ]
  },
  {
   "cell_type": "markdown",
   "metadata": {},
   "source": []
  },
  {
   "cell_type": "markdown",
   "metadata": {},
   "source": [
    "## Dependencies and starter code"
   ]
  },
  {
   "cell_type": "code",
   "execution_count": 156,
   "metadata": {},
   "outputs": [
    {
     "data": {
      "text/html": [
       "<div>\n",
       "<style scoped>\n",
       "    .dataframe tbody tr th:only-of-type {\n",
       "        vertical-align: middle;\n",
       "    }\n",
       "\n",
       "    .dataframe tbody tr th {\n",
       "        vertical-align: top;\n",
       "    }\n",
       "\n",
       "    .dataframe thead th {\n",
       "        text-align: right;\n",
       "    }\n",
       "</style>\n",
       "<table border=\"1\" class=\"dataframe\">\n",
       "  <thead>\n",
       "    <tr style=\"text-align: right;\">\n",
       "      <th></th>\n",
       "      <th>Mouse ID</th>\n",
       "      <th>Drug Regimen</th>\n",
       "      <th>Sex</th>\n",
       "      <th>Age_months</th>\n",
       "      <th>Weight</th>\n",
       "      <th>Timepoint</th>\n",
       "      <th>Tumor_Vol</th>\n",
       "      <th>Metastatic Sites</th>\n",
       "    </tr>\n",
       "  </thead>\n",
       "  <tbody>\n",
       "    <tr>\n",
       "      <td>9</td>\n",
       "      <td>k403</td>\n",
       "      <td>Ramicane</td>\n",
       "      <td>Male</td>\n",
       "      <td>21</td>\n",
       "      <td>16</td>\n",
       "      <td>45</td>\n",
       "      <td>22.050126</td>\n",
       "      <td>1</td>\n",
       "    </tr>\n",
       "    <tr>\n",
       "      <td>19</td>\n",
       "      <td>s185</td>\n",
       "      <td>Capomulin</td>\n",
       "      <td>Female</td>\n",
       "      <td>3</td>\n",
       "      <td>17</td>\n",
       "      <td>45</td>\n",
       "      <td>23.343598</td>\n",
       "      <td>1</td>\n",
       "    </tr>\n",
       "    <tr>\n",
       "      <td>8</td>\n",
       "      <td>k403</td>\n",
       "      <td>Ramicane</td>\n",
       "      <td>Male</td>\n",
       "      <td>21</td>\n",
       "      <td>16</td>\n",
       "      <td>40</td>\n",
       "      <td>24.365505</td>\n",
       "      <td>1</td>\n",
       "    </tr>\n",
       "    <tr>\n",
       "      <td>18</td>\n",
       "      <td>s185</td>\n",
       "      <td>Capomulin</td>\n",
       "      <td>Female</td>\n",
       "      <td>3</td>\n",
       "      <td>17</td>\n",
       "      <td>40</td>\n",
       "      <td>25.472143</td>\n",
       "      <td>1</td>\n",
       "    </tr>\n",
       "    <tr>\n",
       "      <td>7</td>\n",
       "      <td>k403</td>\n",
       "      <td>Ramicane</td>\n",
       "      <td>Male</td>\n",
       "      <td>21</td>\n",
       "      <td>16</td>\n",
       "      <td>35</td>\n",
       "      <td>26.546993</td>\n",
       "      <td>1</td>\n",
       "    </tr>\n",
       "  </tbody>\n",
       "</table>\n",
       "</div>"
      ],
      "text/plain": [
       "   Mouse ID Drug Regimen     Sex  Age_months  Weight  Timepoint  Tumor_Vol  \\\n",
       "9      k403     Ramicane    Male          21      16         45  22.050126   \n",
       "19     s185    Capomulin  Female           3      17         45  23.343598   \n",
       "8      k403     Ramicane    Male          21      16         40  24.365505   \n",
       "18     s185    Capomulin  Female           3      17         40  25.472143   \n",
       "7      k403     Ramicane    Male          21      16         35  26.546993   \n",
       "\n",
       "    Metastatic Sites  \n",
       "9                  1  \n",
       "19                 1  \n",
       "8                  1  \n",
       "18                 1  \n",
       "7                  1  "
      ]
     },
     "execution_count": 156,
     "metadata": {},
     "output_type": "execute_result"
    }
   ],
   "source": [
    "# Dependencies and Setup\n",
    "import pandas as pd\n",
    "import matplotlib.pyplot as plt\n",
    "import scipy.stats as st\n",
    "import numpy as np\n",
    "import warnings\n",
    "import matplotlib.cbook\n",
    "warnings.filterwarnings(\"ignore\",category=matplotlib.cbook.mplDeprecation)\n",
    "from scipy.stats import linregress\n",
    "from scipy.stats import iqr\n",
    "\n",
    "# Study data files\n",
    "mouse_metadata = \"data/Mouse_metadata.csv\"\n",
    "study_results = \"data/Study_results.csv\"\n",
    "\n",
    "# Read the mouse data and the study results\n",
    "mouse_metadata = pd.read_csv(mouse_metadata)\n",
    "study_results = pd.read_csv(study_results)\n",
    "\n",
    "# Combine the data into a single dataset\n",
    "merge = pd.merge(mouse_metadata, study_results, on=\"Mouse ID\", how=\"outer\")\n",
    "merge = merge.sort_values(\"Tumor Volume (mm3)\")\n",
    "# Renaming Tumor Volume (mm3) to Tumor_Vol - just for ease\n",
    "merge.rename(columns = {\"Tumor Volume (mm3)\":\"Tumor_Vol\"}, inplace = True)\n",
    "merge.rename(columns = {\"Weight (g)\":\"Weight\"}, inplace = True) \n",
    "merge.head()"
   ]
  },
  {
   "cell_type": "markdown",
   "metadata": {},
   "source": [
    "## Summary statistics"
   ]
  },
  {
   "cell_type": "code",
   "execution_count": 157,
   "metadata": {},
   "outputs": [
    {
     "data": {
      "text/html": [
       "<div>\n",
       "<style scoped>\n",
       "    .dataframe tbody tr th:only-of-type {\n",
       "        vertical-align: middle;\n",
       "    }\n",
       "\n",
       "    .dataframe tbody tr th {\n",
       "        vertical-align: top;\n",
       "    }\n",
       "\n",
       "    .dataframe thead th {\n",
       "        text-align: right;\n",
       "    }\n",
       "</style>\n",
       "<table border=\"1\" class=\"dataframe\">\n",
       "  <thead>\n",
       "    <tr style=\"text-align: right;\">\n",
       "      <th></th>\n",
       "      <th>Mean</th>\n",
       "      <th>Median</th>\n",
       "      <th>Variance</th>\n",
       "      <th>Standard Deviation</th>\n",
       "      <th>SEM</th>\n",
       "    </tr>\n",
       "    <tr>\n",
       "      <th>Drug Regimen</th>\n",
       "      <th></th>\n",
       "      <th></th>\n",
       "      <th></th>\n",
       "      <th></th>\n",
       "      <th></th>\n",
       "    </tr>\n",
       "  </thead>\n",
       "  <tbody>\n",
       "    <tr>\n",
       "      <td>Capomulin</td>\n",
       "      <td>40.675741</td>\n",
       "      <td>41.557809</td>\n",
       "      <td>24.947764</td>\n",
       "      <td>4.994774</td>\n",
       "      <td>0.329346</td>\n",
       "    </tr>\n",
       "    <tr>\n",
       "      <td>Ceftamin</td>\n",
       "      <td>52.591172</td>\n",
       "      <td>51.776157</td>\n",
       "      <td>39.290177</td>\n",
       "      <td>6.268188</td>\n",
       "      <td>0.469821</td>\n",
       "    </tr>\n",
       "    <tr>\n",
       "      <td>Infubinol</td>\n",
       "      <td>52.884795</td>\n",
       "      <td>51.820584</td>\n",
       "      <td>43.128684</td>\n",
       "      <td>6.567243</td>\n",
       "      <td>0.492236</td>\n",
       "    </tr>\n",
       "    <tr>\n",
       "      <td>Ketapril</td>\n",
       "      <td>55.235638</td>\n",
       "      <td>53.698743</td>\n",
       "      <td>68.553577</td>\n",
       "      <td>8.279709</td>\n",
       "      <td>0.603860</td>\n",
       "    </tr>\n",
       "    <tr>\n",
       "      <td>Naftisol</td>\n",
       "      <td>54.331565</td>\n",
       "      <td>52.509285</td>\n",
       "      <td>66.173479</td>\n",
       "      <td>8.134708</td>\n",
       "      <td>0.596466</td>\n",
       "    </tr>\n",
       "    <tr>\n",
       "      <td>Placebo</td>\n",
       "      <td>54.033581</td>\n",
       "      <td>52.288934</td>\n",
       "      <td>61.168083</td>\n",
       "      <td>7.821003</td>\n",
       "      <td>0.581331</td>\n",
       "    </tr>\n",
       "    <tr>\n",
       "      <td>Propriva</td>\n",
       "      <td>52.322552</td>\n",
       "      <td>50.854632</td>\n",
       "      <td>42.351070</td>\n",
       "      <td>6.507770</td>\n",
       "      <td>0.512884</td>\n",
       "    </tr>\n",
       "    <tr>\n",
       "      <td>Ramicane</td>\n",
       "      <td>40.216745</td>\n",
       "      <td>40.673236</td>\n",
       "      <td>23.486704</td>\n",
       "      <td>4.846308</td>\n",
       "      <td>0.320955</td>\n",
       "    </tr>\n",
       "    <tr>\n",
       "      <td>Stelasyn</td>\n",
       "      <td>54.233149</td>\n",
       "      <td>52.431737</td>\n",
       "      <td>59.450562</td>\n",
       "      <td>7.710419</td>\n",
       "      <td>0.573111</td>\n",
       "    </tr>\n",
       "    <tr>\n",
       "      <td>Zoniferol</td>\n",
       "      <td>53.236507</td>\n",
       "      <td>51.818479</td>\n",
       "      <td>48.533355</td>\n",
       "      <td>6.966589</td>\n",
       "      <td>0.516398</td>\n",
       "    </tr>\n",
       "  </tbody>\n",
       "</table>\n",
       "</div>"
      ],
      "text/plain": [
       "                   Mean     Median   Variance  Standard Deviation       SEM\n",
       "Drug Regimen                                                               \n",
       "Capomulin     40.675741  41.557809  24.947764            4.994774  0.329346\n",
       "Ceftamin      52.591172  51.776157  39.290177            6.268188  0.469821\n",
       "Infubinol     52.884795  51.820584  43.128684            6.567243  0.492236\n",
       "Ketapril      55.235638  53.698743  68.553577            8.279709  0.603860\n",
       "Naftisol      54.331565  52.509285  66.173479            8.134708  0.596466\n",
       "Placebo       54.033581  52.288934  61.168083            7.821003  0.581331\n",
       "Propriva      52.322552  50.854632  42.351070            6.507770  0.512884\n",
       "Ramicane      40.216745  40.673236  23.486704            4.846308  0.320955\n",
       "Stelasyn      54.233149  52.431737  59.450562            7.710419  0.573111\n",
       "Zoniferol     53.236507  51.818479  48.533355            6.966589  0.516398"
      ]
     },
     "execution_count": 157,
     "metadata": {},
     "output_type": "execute_result"
    }
   ],
   "source": [
    "#Generate a summary statistics table of mean, median, variance, standard deviation, and SEM of the tumor volume for each regimen\n",
    "\n",
    "#Calculations for mean, median, variance, standard deviation, and SEM of the tumor volume\n",
    "Tumor_mean = merge.groupby([\"Drug Regimen\"]).mean()[\"Tumor_Vol\"]\n",
    "Tumor_median = merge.groupby([\"Drug Regimen\"]).median()[\"Tumor_Vol\"]\n",
    "Tumor_variance = merge.groupby([\"Drug Regimen\"]).var()[\"Tumor_Vol\"]\n",
    "Tumor_stdev = merge.groupby([\"Drug Regimen\"]).std()[\"Tumor_Vol\"]\n",
    "Tumor_SEM = merge.groupby([\"Drug Regimen\"]).sem()[\"Tumor_Vol\"]\n",
    "\n",
    "#Building summary stats table \n",
    "summary_stats = {\"Mean\": Tumor_mean,\n",
    "                 \"Median\": Tumor_median,\n",
    "                 \"Variance\": Tumor_variance,\n",
    "                 \"Standard Deviation\": Tumor_stdev,\n",
    "                 \"SEM\": Tumor_SEM\n",
    "                }\n",
    "summary = pd.DataFrame(summary_stats)\n",
    "summary"
   ]
  },
  {
   "cell_type": "code",
   "execution_count": 158,
   "metadata": {},
   "outputs": [
    {
     "name": "stdout",
     "output_type": "stream",
     "text": [
      "              Treatment Count\n",
      "Drug Regimen                 \n",
      "Capomulin                 230\n",
      "Ramicane                  228\n",
      "Ketapril                  188\n",
      "Naftisol                  186\n",
      "Zoniferol                 182\n",
      "Placebo                   181\n",
      "Stelasyn                  181\n",
      "Ceftamin                  178\n",
      "Infubinol                 178\n",
      "Propriva                  161\n"
     ]
    }
   ],
   "source": [
    "#Count of mouse participants for each treatment, sorted descending \n",
    "treat_group = merge.groupby([\"Drug Regimen\"])\n",
    "treatment_count = treat_group[\"Mouse ID\"].count()\n",
    "treatment_count = pd.DataFrame({\"Treatment Count\": treatment_count})\n",
    "treatment_count = treatment_count.sort_values(\"Treatment Count\", ascending=False)\n",
    "print(treatment_count)"
   ]
  },
  {
   "cell_type": "markdown",
   "metadata": {},
   "source": [
    "## Bar plots"
   ]
  },
  {
   "cell_type": "code",
   "execution_count": 159,
   "metadata": {},
   "outputs": [
    {
     "data": {
      "text/plain": [
       "Text(0, 0.5, 'Number of Data Points')"
      ]
     },
     "execution_count": 159,
     "metadata": {},
     "output_type": "execute_result"
    },
    {
     "data": {
      "image/png": "[encoded data removed]",
      "text/plain": [
       "<Figure size 432x288 with 1 Axes>"
      ]
     },
     "metadata": {
      "needs_background": "light"
     },
     "output_type": "display_data"
    }
   ],
   "source": [
    "# Generate a bar plot showing number of data points for each treatment regimen using pandas\n",
    "#Configure plot and ticks of treatment_summary\n",
    "treatment_bar = treatment_count.plot(kind=\"bar\", facecolor=\"blue\")\n",
    "#Setting axis titles and graph title\n",
    "plt.title(\"Count of data points by treatment\")\n",
    "plt.xlabel(\"Drug Regimen\")\n",
    "plt.ylabel(\"Number of Data Points\")"
   ]
  },
  {
   "cell_type": "code",
   "execution_count": 160,
   "metadata": {
    "scrolled": true
   },
   "outputs": [
    {
     "data": {
      "text/plain": [
       "Text(0, 0.5, 'Number of Data Points')"
      ]
     },
     "execution_count": 160,
     "metadata": {},
     "output_type": "execute_result"
    },
    {
     "data": {
      "image/png": "[encoded data removed]",
      "text/plain": [
       "<Figure size 432x288 with 1 Axes>"
      ]
     },
     "metadata": {
      "needs_background": "light"
     },
     "output_type": "display_data"
    }
   ],
   "source": [
    "# Generate a bar plot showing number of data points for each treatment regimen using pyplot\n",
    "\n",
    "#Setting x axis\n",
    "regimen_names = treatment_count.index.tolist()\n",
    "x_axis = regimen_names\n",
    "\n",
    "#Configure plot and ticks of treatment_summary\n",
    "plt.bar(x_axis, treatment_count[\"Treatment Count\"], color=\"b\")\n",
    "# Create the ticks for our bar chart's x axis\n",
    "plt.xticks(x_axis, regimen_names, rotation=\"vertical\")\n",
    "#Setting axis titles and graph title\n",
    "plt.title(\"Count of data points by treatment\")\n",
    "plt.xlabel(\"Drug Regimen\")\n",
    "plt.ylabel(\"Number of Data Points\")\n"
   ]
  },
  {
   "cell_type": "markdown",
   "metadata": {},
   "source": [
    "## Pie plots"
   ]
  },
  {
   "cell_type": "code",
   "execution_count": 161,
   "metadata": {},
   "outputs": [
    {
     "data": {
      "text/html": [
       "<div>\n",
       "<style scoped>\n",
       "    .dataframe tbody tr th:only-of-type {\n",
       "        vertical-align: middle;\n",
       "    }\n",
       "\n",
       "    .dataframe tbody tr th {\n",
       "        vertical-align: top;\n",
       "    }\n",
       "\n",
       "    .dataframe thead th {\n",
       "        text-align: right;\n",
       "    }\n",
       "</style>\n",
       "<table border=\"1\" class=\"dataframe\">\n",
       "  <thead>\n",
       "    <tr style=\"text-align: right;\">\n",
       "      <th></th>\n",
       "      <th>Sex</th>\n",
       "    </tr>\n",
       "  </thead>\n",
       "  <tbody>\n",
       "    <tr>\n",
       "      <td>Male</td>\n",
       "      <td>958</td>\n",
       "    </tr>\n",
       "    <tr>\n",
       "      <td>Female</td>\n",
       "      <td>935</td>\n",
       "    </tr>\n",
       "  </tbody>\n",
       "</table>\n",
       "</div>"
      ],
      "text/plain": [
       "        Sex\n",
       "Male    958\n",
       "Female  935"
      ]
     },
     "execution_count": 161,
     "metadata": {},
     "output_type": "execute_result"
    }
   ],
   "source": [
    "#Determining gender counts by counting \"sex\"\n",
    "gender_count = pd.DataFrame(merge[\"Sex\"].value_counts())\n",
    "gender_count"
   ]
  },
  {
   "cell_type": "code",
   "execution_count": 162,
   "metadata": {},
   "outputs": [
    {
     "data": {
      "text/plain": [
       "Text(0.5, 1.0, 'Distribution of Gender')"
      ]
     },
     "execution_count": 162,
     "metadata": {},
     "output_type": "execute_result"
    },
    {
     "data": {
      "image/png": "[encoded data removed]",
      "text/plain": [
       "<Figure size 504x504 with 1 Axes>"
      ]
     },
     "metadata": {},
     "output_type": "display_data"
    }
   ],
   "source": [
    "# Generate a pie plot showing the distribution of female versus male mice using pandas\n",
    "#Pandas pie plot of \"Sex\"\n",
    "gender_pie = gender_count.plot.pie(y=\"Sex\", figsize=(7, 7),autopct=\"%1.1f%%\", \n",
    " startangle=100, shadow=False, legend = False, fontsize=10)\n",
    "plt.title(\"Distribution of Gender\")"
   ]
  },
  {
   "cell_type": "code",
   "execution_count": 163,
   "metadata": {
    "scrolled": true
   },
   "outputs": [
    {
     "data": {
      "text/plain": [
       "Text(0, 0.5, 'Sex')"
      ]
     },
     "execution_count": 163,
     "metadata": {},
     "output_type": "execute_result"
    },
    {
     "data": {
      "image/png": "[encoded data removed]",
      "text/plain": [
       "<Figure size 432x288 with 1 Axes>"
      ]
     },
     "metadata": {},
     "output_type": "display_data"
    }
   ],
   "source": [
    "#Generate a pie plot showing the distribution of female versus male mice using pyplot\n",
    "\n",
    "#Setting labels and explode settings\n",
    "labels = [\"Male\", \"Female\"]\n",
    "explode = (0,0)\n",
    "#Creating pyplot pie chart\n",
    "plt.pie(gender_count, explode=explode, labels=labels, autopct=\"%1.1f%%\", shadow=False, startangle=100)\n",
    "plt.title(\"Distribution of Gender\")\n",
    "plt.ylabel(\"Sex\")"
   ]
  },
  {
   "cell_type": "markdown",
   "metadata": {},
   "source": [
    "## Quartiles, outliers and boxplots"
   ]
  },
  {
   "cell_type": "code",
   "execution_count": 164,
   "metadata": {},
   "outputs": [
    {
     "name": "stdout",
     "output_type": "stream",
     "text": [
      "The lower quartile of temperatures is: 32.37735684\n",
      "The upper quartile of temperatures is: 40.1592203\n",
      "The interquartile range of temperatures is: 7.781863460000004\n",
      "The the median of temperatures is: 38.125164399999996 \n",
      "Values below 20.70456164999999 could be outliers.\n",
      "Values above 51.83201549 could be outliers.\n"
     ]
    }
   ],
   "source": [
    "# Final tumor value for Capomulin for each mouse. Calculate the IQR and quantitatively determine if there are any potential outliers.\n",
    "capo_table = merge[merge[\"Drug Regimen\"].isin([\"Capomulin\"])]\n",
    "capo_table = capo_table.sort_values([\"Mouse ID\", \"Timepoint\"], ascending=[False, False])\n",
    "capo_table = capo_table.drop_duplicates(subset='Mouse ID', keep=\"first\")\n",
    "capo_table = capo_table.sort_values(\"Tumor_Vol\", ascending=False)\n",
    "capo_tumor = capo_table[\"Tumor_Vol\"]\n",
    "#Compute quartile calculations\n",
    "quartile1 = capo_tumor.quantile([.25, .5, .75])\n",
    "lowerq1 = quartile1[0.25]\n",
    "upperq1 = quartile1[0.75]\n",
    "iqr1 = upperq1 - lowerq1\n",
    "print(f\"The lower quartile of temperatures is: {lowerq1}\")\n",
    "print(f\"The upper quartile of temperatures is: {upperq1}\")\n",
    "print(f\"The interquartile range of temperatures is: {iqr1}\")\n",
    "print(f\"The the median of temperatures is: {quartiles[0.5]} \")\n",
    "\n",
    "lower_bound1 = lowerq1 - (1.5*iqr1)\n",
    "upper_bound1 = upperq1 + (1.5*iqr1)\n",
    "print(f\"Values below {lower_bound1} could be outliers.\")\n",
    "print(f\"Values above {upper_bound1} could be outliers.\")\n"
   ]
  },
  {
   "cell_type": "code",
   "execution_count": 165,
   "metadata": {},
   "outputs": [
    {
     "name": "stdout",
     "output_type": "stream",
     "text": [
      "The lower quartile of temperatures is: 31.56046955\n",
      "The upper quartile of temperatures is: 40.65900627\n",
      "The interquartile range of temperatures is: 9.098536719999998\n",
      "The the median of temperatures is: 38.125164399999996 \n",
      "Values below 8.814127750000004 could be outliers.\n",
      "Values above 63.405348069999995 could be outliers.\n"
     ]
    }
   ],
   "source": [
    "# Final tumor value for Ramicane for each mouse. Calculate the IQR and quantitatively determine if there are any potential outliers. \n",
    "rami_table = merge[merge[\"Drug Regimen\"].isin([\"Ramicane\"])]\n",
    "rami_table = rami_table.sort_values([\"Mouse ID\", \"Timepoint\"], ascending=[False, False])\n",
    "rami_table = rami_table.drop_duplicates(subset= 'Mouse ID', keep =\"first\")\n",
    "rami_table = rami_table.sort_values(\"Tumor_Vol\", ascending=False)\n",
    "rami_tumor = rami_table[\"Tumor_Vol\"]\n",
    "#Compute quartile calculations\n",
    "quartile2 = rami_tumor.quantile([.25, .5, .75])\n",
    "lowerq2 = quartile2[0.25]\n",
    "upperq2 = quartile2[0.75]\n",
    "iqr2 = upperq2 - lowerq2\n",
    "print(f\"The lower quartile of temperatures is: {lowerq2}\")\n",
    "print(f\"The upper quartile of temperatures is: {upperq2}\")\n",
    "print(f\"The interquartile range of temperatures is: {iqr2}\")\n",
    "print(f\"The the median of temperatures is: {quartiles[0.5]} \")\n",
    "\n",
    "lower_bound2 = lowerq2 - (2.5*iqr2)\n",
    "upper_bound2 = upperq2 + (2.5*iqr2)\n",
    "print(f\"Values below {lower_bound2} could be outliers.\")\n",
    "print(f\"Values above {upper_bound2} could be outliers.\")"
   ]
  },
  {
   "cell_type": "code",
   "execution_count": 166,
   "metadata": {},
   "outputs": [
    {
     "name": "stdout",
     "output_type": "stream",
     "text": [
      "The lower quartile of temperatures is: 32.37735684\n",
      "The upper quartile of temperatures is: 40.1592203\n",
      "The interquartile range of temperatures is: 7.781863460000004\n",
      "The the median of temperatures is: 38.125164399999996 \n",
      "Values below 12.922698189999988 could be outliers.\n",
      "Values above 59.613878950000014 could be outliers.\n"
     ]
    }
   ],
   "source": [
    "# Final tumor value for Infubinol for each mouse. Calculate the IQR and quantitatively determine if there are any potential outliers.\n",
    "infu_table= merge[merge[\"Drug Regimen\"].isin([\"Infubinol\"])]\n",
    "infu_table = infu_table.sort_values([\"Mouse ID\", \"Timepoint\"], ascending=[False, False])\n",
    "infu_table = infu_table.drop_duplicates(subset= 'Mouse ID', keep =\"first\")\n",
    "infu_table = infu_table.sort_values(\"Tumor_Vol\", ascending=False)\n",
    "infu_tumor = infu_table[\"Tumor_Vol\"]\n",
    "#Compute quartile calculations\n",
    "quartile3 = infu_tumor.quantile([.25, .5, .75])\n",
    "lowerq3 = quartile1[0.25]\n",
    "upperq3 = quartile1[0.75]\n",
    "iqr3 = upperq3 - lowerq3\n",
    "print(f\"The lower quartile of temperatures is: {lowerq3}\")\n",
    "print(f\"The upper quartile of temperatures is: {upperq3}\")\n",
    "print(f\"The interquartile range of temperatures is: {iqr3}\")\n",
    "print(f\"The the median of temperatures is: {quartiles[0.5]} \")\n",
    "\n",
    "lower_bound3 = lowerq3 - (2.5*iqr3)\n",
    "upper_bound3 = upperq3 + (2.5*iqr3)\n",
    "print(f\"Values below {lower_bound3} could be outliers.\")\n",
    "print(f\"Values above {upper_bound3} could be outliers.\")"
   ]
  },
  {
   "cell_type": "code",
   "execution_count": 168,
   "metadata": {},
   "outputs": [
    {
     "name": "stdout",
     "output_type": "stream",
     "text": [
      "The lower quartile of temperatures is: 48.72207785\n",
      "The upper quartile of temperatures is: 64.29983003\n",
      "The interquartile range of temperatures is: 15.577752179999997\n",
      "The the median of temperatures is: 38.125164399999996 \n",
      "Values below 25.355449580000002 could be outliers.\n",
      "Values above 87.66645829999999 could be outliers.\n"
     ]
    }
   ],
   "source": [
    "# Final tumor value for Ceftamin for each mouse. Calculate the IQR and quantitatively determine if there are any potential outliers.\n",
    "ceft_table= merge[merge[\"Drug Regimen\"].isin([\"Ceftamin\"])]\n",
    "ceft_table = ceft_table.sort_values([\"Mouse ID\", \"Timepoint\"], ascending=[False, False])\n",
    "ceft_table = ceft_table.drop_duplicates(subset= 'Mouse ID', keep =\"first\")\n",
    "ceft_table = ceft_table.sort_values(\"Tumor_Vol\", ascending=False)\n",
    "ceft_tumor = ceft_table[\"Tumor_Vol\"]\n",
    "#Compute quartile calculations\n",
    "quartile4 = ceft_tumor.quantile([.25, .5, .75])\n",
    "lowerq4 = quartile4[0.25]\n",
    "upperq4 = quartile4[0.75]\n",
    "iqr4 = upperq4 - lowerq4\n",
    "print(f\"The lower quartile of temperatures is: {lowerq4}\")\n",
    "print(f\"The upper quartile of temperatures is: {upperq4}\")\n",
    "print(f\"The interquartile range of temperatures is: {iqr4}\")\n",
    "print(f\"The the median of temperatures is: {quartiles[0.5]} \")\n",
    "\n",
    "lower_bound4 = lowerq4 - (1.5*iqr4)\n",
    "upper_bound4 = upperq4 + (1.5*iqr4)\n",
    "print(f\"Values below {lower_bound4} could be outliers.\")\n",
    "print(f\"Values above {upper_bound4} could be outliers.\")"
   ]
  },
  {
   "cell_type": "code",
   "execution_count": 171,
   "metadata": {},
   "outputs": [
    {
     "data": {
      "image/png": "[encoded data removed]",
      "text/plain": [
       "<Figure size 432x288 with 1 Axes>"
      ]
     },
     "metadata": {
      "needs_background": "light"
     },
     "output_type": "display_data"
    }
   ],
   "source": [
    "# Generate a box plot of the final tumor volume of each mouse across four regimens of interest\n",
    "data = []\n",
    "data.append(capo_tumor)\n",
    "data.append(rami_tumor)\n",
    "data.append(infu_tumor)\n",
    "data.append(cef_tumor)\n",
    "\n",
    "fig1, ax1 = plt.subplots()\n",
    "ax1.set_title('Final Tumor Volumes at final Timepoint')\n",
    "ax1.set_ylabel('Tumor Volume')\n",
    "ax1.set_xlabel('Drug Regimens')\n",
    "ax1.boxplot(data, labels=[\"Capomulin\", \"Ramicane\", \"Infubinol\", \"Ceftamin\"])\n",
    "\n",
    "plt.show()"
   ]
  },
  {
   "cell_type": "markdown",
   "metadata": {},
   "source": [
    "## Line and scatter plots"
   ]
  },
  {
   "cell_type": "code",
   "execution_count": 174,
   "metadata": {
    "scrolled": true
   },
   "outputs": [
    {
     "data": {
      "text/plain": [
       "<matplotlib.legend.Legend at 0x2bc6e637dc8>"
      ]
     },
     "execution_count": 174,
     "metadata": {},
     "output_type": "execute_result"
    },
    {
     "data": {
      "image/png": "[encoded data removed]",
      "text/plain": [
       "<Figure size 432x288 with 1 Axes>"
      ]
     },
     "metadata": {
      "needs_background": "light"
     },
     "output_type": "display_data"
    }
   ],
   "source": [
    "# Generate a line plot of time point versus tumor volume for a mouse treated with Capomulin\n",
    "\n",
    "#Keep only Capomulin and look for a specific mouse\n",
    "#Capomulin = merge[(merge[\"Drug Regimen\"] == \"Capomulin\")]\n",
    "#Capomulin_df = Capomulin.sort_values([\"Mouse ID\",\"Timepoint\"], ascending=[True, True]).groupby([\"Mouse ID\",\"Timepoint\",\"Tumor_Vol\"])\n",
    "\n",
    "Mouse = \"y793\"\n",
    "\n",
    "Mouse_df = merge[[\"Mouse ID\", \"Timepoint\",\"Tumor_Vol\"]]\n",
    "Mouse_df = Mouse_df.sort_values(\"Timepoint\", ascending=True)\n",
    "Specific_Mouse = Mouse_df[(Mouse_df[\"Mouse ID\"] == Mouse)]\n",
    "\n",
    "Mouse_Handle = plt.plot(Specific_Mouse[\"Timepoint\"], Specific_Mouse[\"Tumor_Vol\"], color=\"blue\", label=\"Mouse: \" + Mouse)\n",
    "# Adds a legend and sets its location to the lower right\n",
    "plt.title(f\"Tumor size of {Mouse} as a Response to Treatment Over Time\")\n",
    "plt.xlabel(\"Time\")\n",
    "plt.ylabel(\"Tumor Volume (mm3)\")\n",
    "plt.legend(loc=\"best\")"
   ]
  },
  {
   "cell_type": "code",
   "execution_count": 103,
   "metadata": {
    "scrolled": true
   },
   "outputs": [
    {
     "data": {
      "image/png": "[encoded data removed]",
      "text/plain": [
       "<Figure size 576x576 with 1 Axes>"
      ]
     },
     "metadata": {
      "needs_background": "light"
     },
     "output_type": "display_data"
    }
   ],
   "source": [
    "# Generate a scatter plot of mouse weight versus average tumor volume for the Capomulin regimen\n",
    "\n",
    "#Keep only Capomulin and look for a specific mouse\n",
    "Capomulin = merge[(merge[\"Drug Regimen\"] == \"Capomulin\")]\n",
    "#Capomulin.head()\n",
    "Capomulin = Capomulin[[\"Mouse ID\", \"Weight\", \"Tumor_Vol\"]]\n",
    "#Retrives 9 data points - avg tumor by each weight group\n",
    "#Capomulin = Capomulin.groupby(\"Weight\").mean()\n",
    "#Retrives 24 data points - avg tumor by each mouse weight\n",
    "Capomulin = Capomulin.groupby(\"Mouse ID\").mean()\n",
    "Capomulin = Capomulin.reset_index()\n",
    "#Capomulin.head(20)\n",
    "\n",
    "\n",
    "#Scatter plot which compares Weight to Avg Tumor Volume for Capomulin\n",
    "Capomulin.plot(kind=\"scatter\", x=\"Weight\", y=\"Tumor_Vol\", grid=True, figsize=(8,8), title=\"Weight Vs. Avg Tumor Vol\")\n",
    "plt.show()"
   ]
  },
  {
   "cell_type": "code",
   "execution_count": 104,
   "metadata": {},
   "outputs": [
    {
     "name": "stdout",
     "output_type": "stream",
     "text": [
      "The correlation between both factors is 0.84\n"
     ]
    }
   ],
   "source": [
    "#compute the Pearson correlation coefficient between weight and tumors\n",
    "weight = Capomulin.iloc[:, 1]\n",
    "tumor_volume = Capomulin.iloc[:, 2]\n",
    "correlation = st.pearsonr(weight, tumor_volume)\n",
    "print(f\"The correlation between both factors is {round(correlation[0],2)}\")"
   ]
  },
  {
   "cell_type": "code",
   "execution_count": 105,
   "metadata": {
    "scrolled": true
   },
   "outputs": [
    {
     "data": {
      "image/png": "[encoded data removed]",
      "text/plain": [
       "<Figure size 432x288 with 1 Axes>"
      ]
     },
     "metadata": {
      "needs_background": "light"
     },
     "output_type": "display_data"
    }
   ],
   "source": [
    "# Calculate the linear regression model for mouse weight and average tumor volume for the Capomulin regimen\n",
    "x_values = Capomulin[\"Weight\"]\n",
    "y_values = Capomulin[\"Tumor_Vol\"]\n",
    "(slope, intercept, rvalue, pvalue, stderr) = linregress(x_values, y_values)\n",
    "regress_values = x_values * slope + intercept\n",
    "line_eq = \"y =\" + str(round(slope,2)) + \"x + \" + str(round(intercept,2))\n",
    "plt.scatter(x_values, y_values)\n",
    "plt.plot(x_values,regress_values,\"r-\")\n",
    "plt.annotate(line_eq,(6,10),fontsize=10,color=\"red\")\n",
    "plt.xlabel(\"Weight\")\n",
    "plt.ylabel(\"Tumor Volume\")\n",
    "plt.title(\"Weight Vs. Avg Tumor Vol\")\n",
    "plt.show()"
   ]
  },
  {
   "cell_type": "code",
   "execution_count": null,
   "metadata": {},
   "outputs": [],
   "source": []
  }
 ],
 "metadata": {
  "anaconda-cloud": {},
  "kernelspec": {
   "display_name": "Python 3",
   "language": "python",
   "name": "python3"
  },
  "language_info": {
   "codemirror_mode": {
    "name": "ipython",
    "version": 3
   },
   "file_extension": ".py",
   "mimetype": "text/x-python",
   "name": "python",
   "nbconvert_exporter": "python",
   "pygments_lexer": "ipython3",
   "version": "3.7.4"
  }
 },
 "nbformat": 4,
 "nbformat_minor": 2
}
